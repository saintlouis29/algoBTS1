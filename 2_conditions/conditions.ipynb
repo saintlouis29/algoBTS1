{
 "cells": [
  {
   "cell_type": "markdown",
   "metadata": {},
   "source": [
    "[sommaire](../index.ipynb)"
   ]
  },
  {
   "cell_type": "markdown",
   "metadata": {},
   "source": [
    "# Traitements conditionnels\n",
    "\n",
    "## SI ... ALORS\n",
    "\n",
    "La syntaxe d'un traitement conditionnel est la suivante:\n",
    "\n",
    "```\n",
    "Si <condition> alors\n",
    "    <instructions>\n",
    "Fin si\n",
    "```\n",
    "\n",
    "les \\<instructions\\> ne sont exécutées que si la condition est vérifiée.\n",
    "\n",
    "Les conditions peuvent être tout type de test:\n",
    "- égalité\n",
    "- différence\n",
    "- supériorité\n",
    "- appartenance\n",
    "- ...\n",
    "\n"
   ]
  },
  {
   "cell_type": "markdown",
   "metadata": {},
   "source": [
    "## SI ... ALORS ... SINON\n",
    "\n",
    "La syntaxe est la suivante:\n",
    "\n",
    "```\n",
    "Si <condition> alors\n",
    "    <instructions>\n",
    "Sinon \n",
    "    <autres_instructions>\n",
    "Fin si\n",
    "```\n",
    "\n",
    "Si \\<condition\\> est vérifiée les \\<instructions\\> sont exécutées. Dans le cas contraire, \\<autres_instructions\\> sont exécutées.\n",
    "\n"
   ]
  },
  {
   "cell_type": "markdown",
   "metadata": {},
   "source": [
    "[sommaire](../index.ipynb)"
   ]
  }
 ],
 "metadata": {
  "language_info": {
   "name": "python"
  }
 },
 "nbformat": 4,
 "nbformat_minor": 2
}
