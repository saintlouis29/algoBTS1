{
 "cells": [
  {
   "cell_type": "markdown",
   "metadata": {},
   "source": [
    "[sommaire](../index.ipynb)"
   ]
  },
  {
   "cell_type": "markdown",
   "metadata": {},
   "source": [
    "# Traitements conditionnels\n",
    "\n",
    "## Partie algorithmique\n",
    "\n",
    "### SI ... ALORS\n",
    "\n",
    "La syntaxe d'un traitement conditionnel est la suivante:\n",
    "\n",
    "```\n",
    "Si <condition> alors\n",
    "    <instructions>\n",
    "Fin si\n",
    "```\n",
    "\n",
    "les \\<instructions\\> ne sont exécutées que si la condition est vérifiée.\n",
    "\n",
    "Les conditions peuvent être tout type de test:\n",
    "- égalité\n",
    "- différence\n",
    "- supériorité\n",
    "- appartenance\n",
    "- ...\n",
    "\n"
   ]
  },
  {
   "cell_type": "markdown",
   "metadata": {},
   "source": [
    "### SI ... ALORS ... SINON\n",
    "\n",
    "La syntaxe est la suivante:\n",
    "\n",
    "```\n",
    "Si <condition> alors\n",
    "    <instructions>\n",
    "Sinon \n",
    "    <autres_instructions>\n",
    "Fin si\n",
    "```\n",
    "\n",
    "Si \\<condition\\> est vérifiée les \\<instructions\\> sont exécutées. Dans le cas contraire, \\<autres_instructions\\> sont exécutées.\n",
    "\n",
    "**Exemple**:\n",
    "\n",
    "```\n",
    "Parité/Imparité\n",
    "Variables : \n",
    "- un_nombre_entier (int)\n",
    "\n",
    "Début\n",
    "Afficher \"Veuillez saisir un nombre entier.\"\n",
    "Saisir un_nombre_entier\n",
    "Si le reste de la division de un_nombre_entier par 2 est nul alors\n",
    "    Afficher \"Le nombre <un_nombre_entier> est pair\"\n",
    "Sinon\n",
    "    Afficher \"Le nombre <un_nombre_entier> est impair\"\n",
    "Fin Si\n",
    "Fin\n",
    "```"
   ]
  },
  {
   "cell_type": "markdown",
   "metadata": {},
   "source": [
    "### Imbrications\n",
    "\n",
    "Il est possible d'imbriquer plusieurs traitements conditionnels\n",
    "\n",
    "```\n",
    "Parité/Imparité + multiple de 3\n",
    "Variables : \n",
    "- un_nombre_entier (int)\n",
    "\n",
    "Début\n",
    "Afficher \"Veuillez saisir un nombre entier.\"\n",
    "Saisir un_nombre_entier\n",
    "Si le reste de la division de un_nombre_entier par 2 est nul alors\n",
    "    Si le reste de la division de un_nombre_entier par 3 est nul alors\n",
    "        Afficher \"Le nombre <un_nombre_entier> est un multiple de 2 et de 3.\"\n",
    "    Sinon\n",
    "        Afficher \"Le nombre <un_nombre_entier> est un multiple de 2.\"\n",
    "    Fin Si\n",
    "Sinon\n",
    "    Si le reste de la division de un_nombre_entier par 3 est nul alors\n",
    "        Afficher \"Le nombre <un_nombre_entier> est un multiple de 3.\"\n",
    "    Sinon\n",
    "        Afficher \"Le nombre <un_nombre_entier> n'est ni un multiple de 2 ni de 3.\"\n",
    "    Fin Si\n",
    "Fin Si\n",
    "Fin\n",
    "```\n"
   ]
  },
  {
   "cell_type": "markdown",
   "metadata": {},
   "source": [
    "### Opérateurs logiques\n",
    "\n",
    "La condition peut être évaluée en utilisant des **opérateurs logiques**:\n",
    "\n",
    "- **et** : la *condition1* **et** la *condition2* doivent être vraies pour que la condition générale soit vérifiée.\n",
    "- **ou** : au moins une des deux conditions doit être vraie pour que la condition générale soit vérifiée.\n",
    "- **non** : l'évaluation de l'expression conditionnelle est inversée."
   ]
  },
  {
   "cell_type": "markdown",
   "metadata": {},
   "source": [
    "### Selon cas\n",
    "\n",
    "La structure algorithmique *selon cas* (switch case) est une forme de structure selective utilisée pour faciliter la gestion de cas multiples dans un programme.\n",
    "\n",
    "```\n",
    "Cas <variable> vaut\n",
    "    cas <valeur1> : faire <instruction1> ;\n",
    "    cas <valeur2> : faire <instruction2> ;\n",
    "    cas <valeur2> : faire <instruction3> ;\n",
    "    .......................\n",
    "    .......................\n",
    "    cas <valeurN_> : faire <instructionN> ;\n",
    "Sinon\n",
    "    Autres Instructions ;\n",
    "Fin Cas\n",
    "```\n",
    "**Exemple**\n",
    "\n",
    "```\n",
    "Algorithme Mention\n",
    "Variables:\n",
    "  - moyenne (float)\n",
    "\n",
    "Début\n",
    "    Afficher \"Quelle est la moyenne?\"\n",
    "    Saisir <moyenne>\n",
    "    Cas\n",
    "        cas <moyenne> < 10:\n",
    "            Afficher \"Non admis\"\n",
    "        cas <moyenne> < 12:\n",
    "            Afficher \"Admis mention passable\"\n",
    "        cas <moyenne> < 14:\n",
    "            Afficher \"Admis mention assez bien\"\n",
    "        cas <moyenne> < 16:\n",
    "            Afficher \"Admis mention bien\"\n",
    "    Sinon\n",
    "        Afficher \"Admis mention très bien\"\n",
    "    Fin Cas\n",
    "Fin\n",
    "```"
   ]
  },
  {
   "cell_type": "markdown",
   "metadata": {},
   "source": [
    "## Implémentation en Python\n",
    "\n",
    "### SI ... ALORS\n",
    "\n",
    "La syntaxe de la condition en Python est de la forme : \n",
    "\n",
    "```\n",
    "if <condition> :\n",
    "    <instructions>\n",
    "```\n",
    "\n",
    "**Exemple**"
   ]
  },
  {
   "cell_type": "code",
   "execution_count": null,
   "metadata": {},
   "outputs": [],
   "source": [
    "nombre = int(input(\"Entrez un nombre entier : \"))\n",
    "if nombre%2 == 0:\n",
    "    print(f\"Le nombre {nombre} est pair.\") # C'est l'indentation qui délimite le bloc d'instructions\n",
    "print('Bye!') # Cette instruction n'est pas dans le bloc du if"
   ]
  },
  {
   "cell_type": "markdown",
   "metadata": {},
   "source": [
    "### SI ... ALORS ... SINON\n",
    "\n",
    "La syntaxe en Python est de la forme : \n",
    "```\n",
    "if <condition> :\n",
    "    <instructions>\n",
    "else:\n",
    "    <autres_instructions>\n",
    "```\n",
    "**Exemple**\n"
   ]
  },
  {
   "cell_type": "code",
   "execution_count": null,
   "metadata": {},
   "outputs": [],
   "source": [
    "nombre = int(input(\"Entrez un nombre entier : \"))\n",
    "if nombre%2 == 0:\n",
    "    print(f\"Le nombre {nombre} est pair.\")\n",
    "else:\n",
    "    print(f\"Le nombre {nombre} est impair.\")\n",
    "print('Bye!') # Cette instruction n'est pas dans le bloc du else"
   ]
  },
  {
   "cell_type": "markdown",
   "metadata": {},
   "source": [
    "### Imbrications\n",
    "\n",
    "Il est possible d'imbriquer des structures conditionnelles en Python, l'imbrication s'effectue en ajoutant des **indentations**.\n",
    "\n",
    "**Exemple:**"
   ]
  },
  {
   "cell_type": "code",
   "execution_count": null,
   "metadata": {},
   "outputs": [],
   "source": [
    "nb = int(input(\"Entrez un nombre entier : \"))\n",
    "if nb%2 == 0:\n",
    "    if nb%3 == 0:\n",
    "        print(f\"Le nombre {nb} est divisible par 2 et par 3.\")\n",
    "    else:\n",
    "        print(f\"Le nombre {nb} est divisible par 2 mais pas par 3.\")\n",
    "else:\n",
    "    if nb%3 == 0:\n",
    "        print(f\"Le nombre {nb} est divisible par 3 mais pas par 2.\")\n",
    "    else:\n",
    "        print(f\"Le nombre {nb} n'est divisible ni par 2 ni par 3.\")"
   ]
  },
  {
   "cell_type": "markdown",
   "metadata": {},
   "source": [
    "### Opérateurs logiques\n",
    "\n",
    "Les opérateurs logiques les plus courants sont:\n",
    "\n",
    "- and\n",
    "- or\n",
    "- not\n",
    "\n",
    "<table>\n",
    "    <tr>\n",
    "        <td><strong>AND</strong></td><td><strong>True</strong></td><td><strong>False</strong></td>\n",
    "    </tr>\n",
    "    <tr>\n",
    "        <td><strong>True</strong></td><td>True</td><td>False</td>\n",
    "    </tr>\n",
    "    <tr>\n",
    "        <td><strong>False</strong></td><td>False</td><td>False</td>\n",
    "    </tr>\n",
    "</table>\n",
    "\n",
    "```\n",
    "```\n",
    "\n",
    "<table>\n",
    "    <tr>\n",
    "        <td><strong>OR</strong></td><td><strong>True</strong></td><td><strong>False</strong></td>\n",
    "    </tr>\n",
    "    <tr>\n",
    "        <td><strong>True</strong></td><td>True</td><td>True</td>\n",
    "    </tr>\n",
    "    <tr>\n",
    "        <td><strong>False</strong></td><td>True</td><td>False</td>\n",
    "    </tr>\n",
    "</table>\n",
    "\n",
    "\n",
    "**Exemples:**"
   ]
  },
  {
   "cell_type": "code",
   "execution_count": null,
   "metadata": {},
   "outputs": [],
   "source": [
    "True and False"
   ]
  },
  {
   "cell_type": "code",
   "execution_count": null,
   "metadata": {},
   "outputs": [],
   "source": [
    "False or True"
   ]
  },
  {
   "cell_type": "code",
   "execution_count": null,
   "metadata": {},
   "outputs": [],
   "source": [
    "not(False)"
   ]
  },
  {
   "cell_type": "markdown",
   "metadata": {},
   "source": [
    "Attention à l'ordre des priorités : l'opérateur *not* est prioritaire sur l'opérateur *and* qui est lui-même prioritaire sur l'opérateur *or*.\n",
    "\n",
    "ainsi\n",
    "\n",
    "```python\n",
    "not False and True or False \n",
    "```\n",
    "\n",
    "s'effectue comme:\n",
    "```python\n",
    "((not False) and True) or False \n",
    "```\n",
    "\n",
    "En pratique, mettre des parenthèses, même inutiles, évite les erreurs."
   ]
  },
  {
   "cell_type": "markdown",
   "metadata": {},
   "source": [
    "### IF ... ELIF ... ELSE\n",
    "\n",
    "La syntaxe est la suivante:\n",
    "\n",
    "```\n",
    "if <condition_1>:\n",
    "    <instruction_1>\n",
    "elif <condition_2>:\n",
    "    <instruction_2>\n",
    "...\n",
    "...\n",
    "elif <condition_n>:\n",
    "    <instruction_n>\n",
    "else:\n",
    "    <autre_instruction>\n",
    "```\n",
    "\n",
    "Prenons l'algorithme de la *mention*, voici son implémentation en Python:"
   ]
  },
  {
   "cell_type": "code",
   "execution_count": null,
   "metadata": {},
   "outputs": [],
   "source": [
    "moyenne = float(input(\"Entrez la moyenne : \"))\n",
    "if moyenne < 10:\n",
    "    print(\"Non admis\")\n",
    "elif moyenne < 12:\n",
    "    print(\"Admis\")\n",
    "elif moyenne < 14:\n",
    "    print(\"Admis mention Assez Bien\")\n",
    "elif moyenne < 16:\n",
    "    print(\"Admis mention Bien\")\n",
    "else:\n",
    "    print(\"Admis mention Très Bien\")"
   ]
  },
  {
   "cell_type": "markdown",
   "metadata": {},
   "source": [
    "**Remarques:**\n",
    "\n",
    "- Les conditions sont effectuées dans l'ordre du code, dès qu'une est vérifiée, les suivantes ne sont pas testés.\n",
    "- Dans cet exemple on a utilisé l'opérateur d'infériorité '<', en voici d'autres:\n",
    "  - ```<=``` : inférieur ou égal\n",
    "  - ```> ``` : supérieur\n",
    "  - ```>=``` : supérieur ou égal\n",
    "  - ```!=``` : différent\n",
    "  - ```==``` : égalité de valeurs\n",
    "  - ```is``` : égalité si même adresse mémoire\n",
    "  - ```in``` : appartenance  ``` 'n' in 'Bonjour'```"
   ]
  },
  {
   "cell_type": "markdown",
   "metadata": {},
   "source": [
    "[sommaire](../index.ipynb)"
   ]
  }
 ],
 "metadata": {
  "kernelspec": {
   "display_name": "Python 3 (ipykernel)",
   "language": "python",
   "name": "python3"
  },
  "language_info": {
   "codemirror_mode": {
    "name": "ipython",
    "version": 3
   },
   "file_extension": ".py",
   "mimetype": "text/x-python",
   "name": "python",
   "nbconvert_exporter": "python",
   "pygments_lexer": "ipython3",
   "version": "3.12.3"
  },
  "toc": {
   "base_numbering": 1,
   "nav_menu": {},
   "number_sections": true,
   "sideBar": true,
   "skip_h1_title": false,
   "title_cell": "Table of Contents",
   "title_sidebar": "Contents",
   "toc_cell": false,
   "toc_position": {},
   "toc_section_display": true,
   "toc_window_display": false
  }
 },
 "nbformat": 4,
 "nbformat_minor": 2
}
