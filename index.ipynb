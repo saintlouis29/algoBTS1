{
 "cells": [
  {
   "cell_type": "markdown",
   "metadata": {},
   "source": [
    "# Sommaire\n",
    "\n",
    "1. Introduction  \n",
    "2. Traitements conditionnels  \n",
    "3. Boucles  \n",
    "4. Tableaux  \n",
    "5. Fonctions  \n",
    "6. Matrices"
   ]
  }
 ],
 "metadata": {
  "language_info": {
   "name": "python"
  }
 },
 "nbformat": 4,
 "nbformat_minor": 2
}
