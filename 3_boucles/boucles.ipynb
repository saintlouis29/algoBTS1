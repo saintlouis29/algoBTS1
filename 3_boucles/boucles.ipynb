{
 "cells": [
  {
   "cell_type": "markdown",
   "metadata": {},
   "source": [
    "[sommaire](../index.ipynb)"
   ]
  },
  {
   "cell_type": "markdown",
   "metadata": {},
   "source": [
    "# Boucles\n",
    "\n",
    "## Partie algorithmique\n",
    "\n",
    "Une **boucle** permet d'exécuter plusieurs fois la même série d'instructions. Une boucle est parfois appelée **structure répétitive** ou **structure itérative**.\n",
    "\n",
    "On distinguera 2 types de boucles:\n",
    "\n",
    "- Tant que\n",
    "- Pour\n",
    "\n",
    "### Tant que\n",
    "\n",
    "La syntaxe de la boucle *tant que* est la suivante:\n",
    "\n",
    "```\n",
    "Tant que <condition>\n",
    "    <instructions>\n",
    "Fin tant que\n",
    "```\n",
    "\n",
    "La *condition* est évaluée **avant** chaque passage dans la boucle. Si son évaluation est vraie, le bloc d'instructions est exécuté, sinon l'éxécution se poursuit **après** le *Fin tant que*.\n",
    "\n",
    "**Exemple 1:**\n",
    "\n",
    "```\n",
    "Algorithme : Compte à rebours\n",
    "Variables:\n",
    "  - nombre : int\n",
    "Début\n",
    "    nombre <- 5\n",
    "    Tant que <nombre> >= 0\n",
    "        Afficher <nombre>\n",
    "        nombre <- nombre -1\n",
    "    Fin Tant que\n",
    "    Afficher \"Partez!\"\n",
    "Fin\n",
    "```\n",
    "**Remarque** : L'initialisation de *nombre* avant d'entrer dans la boucle est indispensable.\n",
    "\n",
    "**Exemple 1:**\n",
    "\n",
    "```\n",
    "Algorithme : Trouver le nombre\n",
    "Variables:\n",
    "  - nombre_genere : int\n",
    "  - nombre_utilisateur : int\n",
    "Début\n",
    "    nombre_genere <- un nombre entier aléatoire compris entre 0 et 100\n",
    "    nombre_utilisateur <- -1\n",
    "    Tant que nombre_utilisateur différent de nombre_généré\n",
    "        Afficher \"Choisir un nombre entier entre 0 et 100.\"\n",
    "        Saisir nombre_utilisateur\n",
    "        Si nombre_utilisateur < nombre_genere\n",
    "            Afficher \"Plus grand\"\n",
    "        Fin Si\n",
    "        Si nombre_utilisateur > nombre_genere\n",
    "            Afficher \"Plus petit\"\n",
    "        Fin Si\n",
    "    Fin Tant que\n",
    "    Afficher \"Gagné!\"\n",
    "Fin\n",
    "```\n",
    "\n",
    "**Remarque** : L'initialisation de *nombre_utilisateur* à -1 avant la condition du tant que est indispensable."
   ]
  },
  {
   "cell_type": "markdown",
   "metadata": {},
   "source": [
    "\n",
    "### Pour\n",
    "\n",
    "La syntaxe de la boucle *Pour* est la suivante:\n",
    "\n",
    "```\n",
    "Pour <variable> allant de <premiere_valeur> à <derniere_valeur> par pas de <valeur_du_pas>\n",
    "    <instructions>\n",
    "Fin pour\n",
    "```\n",
    "**Remarque** : la valeur du *pas* est facultative si celui-ci vaut 1.\n",
    "\n",
    "Dans un exemple de boucle *Tant que* nous avons utilisé un **compteur**. L'utilisation de compteur étant très féquente, la structure *Pour* est à notre disposition.\n",
    "\n",
    "**Remarque** : toute boucle *Pour* peut être réécrite en boucle *Tant que*\n",
    "\n",
    "Reprenons l'exemple du compte à rebours :\n",
    "\n",
    "```\n",
    "Algorithme : Compte à rebours\n",
    "Variables:\n",
    "  - nombre : int\n",
    "Début\n",
    "    Pour nombre allant de 5 à 0 par pas de -1\n",
    "        Afficher <nombre>\n",
    "    Fin pour\n",
    "    Afficher \"Partez!\"\n",
    "Fin\n",
    "```\n",
    "\n",
    "**Remarques** : \n",
    "- L'initialisation  de *nombre* n'est ici pas nécessaire.\n",
    "- La structure *Pour* n'est pas indispensable, on pourrait programmer l'ensemble des boucles avec la structure *Tant que*. L'intérêt du *Pour* est de faciliter la vie du programmeur en lui fournissant une variable qui lui sert de **compteur**.\n",
    "\n",
    "\n",
    "De manière générale, la structure *Tant que* est utilisée lorsque le nombre d'itérations dans la boucle est inconnue. La structure *Pour* est utilisée lorsque le nombre d'itérations peut être déterminée. \n",
    "\n"
   ]
  },
  {
   "cell_type": "markdown",
   "metadata": {},
   "source": [
    "## Implémentation en Python\n",
    "\n",
    "### Tant que\n",
    "\n",
    "La structure *Tant que* s'implémente en Python par l'instruction *while*.\n",
    "\n",
    "Voici la syntaxe:\n",
    "\n",
    "```\n",
    "while <condition>:\n",
    "    <instructions>\n",
    "```\n",
    "\n",
    "Prenons l'exemple du **compte à rebours** que nous allons implémenter avec un *while*."
   ]
  },
  {
   "cell_type": "code",
   "execution_count": null,
   "metadata": {},
   "outputs": [],
   "source": [
    "n = 5\n",
    "while n >=0:\n",
    "    print(n)\n",
    "    n = n-1\n",
    "print(\"Partez!\")"
   ]
  },
  {
   "cell_type": "markdown",
   "metadata": {},
   "source": [
    "**Autre exemple**:\n",
    "\n",
    "Conditionner l'arrêt de la boucle en fonction d'une entrée de l'utilisateur."
   ]
  },
  {
   "cell_type": "code",
   "execution_count": null,
   "metadata": {},
   "outputs": [],
   "source": [
    "nombre = -1\n",
    "while nombre != 0:\n",
    "    nombre = int(input(\"Entrez un nombre entier (0 pour arrêter): \"))\n",
    "    if nombre%2 == 0 and nombre != 0:\n",
    "        print(f\"{nombre} est pair\")\n",
    "    elif nombre%2 == 1 and nombre != 0:\n",
    "        print(f\"{nombre} est impair\")\n",
    "print(\"Fin du programme\")"
   ]
  },
  {
   "cell_type": "markdown",
   "metadata": {},
   "source": [
    "### Pour\n",
    "\n",
    "La structure *Pour* que nous avons étudiée dans la partie algoritmique **n'existe pas nativement en Python**. La structure la plus ressemblante est l'instruction **for**.\n",
    "\n",
    "Le *for* en Python boucle sur un objet **itérable** c'est à dire un objet qui contient des **éléments ordonnés**. Le *for* va parcourir chacun des éléments jusqu'à parvenir au dernier.\n",
    "\n",
    "Le seul itérable que nous avons étudié est la **chaine de caractère**."
   ]
  },
  {
   "cell_type": "code",
   "execution_count": null,
   "metadata": {},
   "outputs": [],
   "source": [
    "mot = \"Bonjour\"\n",
    "for lettre in mot:\n",
    "    print(lettre)"
   ]
  },
  {
   "cell_type": "markdown",
   "metadata": {},
   "source": [
    "[sommaire](../index.ipynb)"
   ]
  }
 ],
 "metadata": {
  "kernelspec": {
   "display_name": "Python 3",
   "language": "python",
   "name": "python3"
  },
  "language_info": {
   "codemirror_mode": {
    "name": "ipython",
    "version": 3
   },
   "file_extension": ".py",
   "mimetype": "text/x-python",
   "name": "python",
   "nbconvert_exporter": "python",
   "pygments_lexer": "ipython3",
   "version": "3.12.3"
  }
 },
 "nbformat": 4,
 "nbformat_minor": 2
}
