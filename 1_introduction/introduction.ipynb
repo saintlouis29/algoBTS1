{
 "cells": [
  {
   "cell_type": "markdown",
   "metadata": {},
   "source": [
    "[sommaire](../index.ipynb)\n",
    "\n",
    "# 1. Introduction\n",
    "\n",
    "## Qu’est-ce qu’un algorithme ?\n",
    "Un **algorithme** est une suite finie et ordonnée d’instructions permettant de résoudre un problème ou d’obtenir un résultat.  \n",
    "On peut comparer un algorithme à une **recette de cuisine** :  \n",
    "- les ingrédients correspondent aux **données d’entrée**,  \n",
    "- les étapes de la recette correspondent aux **instructions**,  \n",
    "- le plat final correspond au **résultat (sortie)**.\n",
    "\n",
    "---\n",
    "\n",
    "## Différence entre algorithme et programme\n",
    "- Un **algorithme** est une idée, une méthode décrite de façon abstraite (souvent en pseudo-code ou en langage naturel).  \n",
    "- Un **programme** est la traduction concrète de l’algorithme dans un langage de programmation (Python, Java, etc.).\n",
    "\n",
    "Ce cours a pour but de vous apprendre à **concevoir un algorithme** mais également à **programmer**. Le langage de programmation utilisé est le langage **Python**.\n",
    "\n",
    "## Notions de variables et types\n",
    "\n",
    "- **Variable** : espace mémoire nommé qui peut changer de valeur au cours du programme.  \n",
    "- **Constante** : valeur fixée qui ne change pas pendant l’exécution.\n",
    "\n",
    "## Types de données classiques :\n",
    "- Entier : ex : 42  \n",
    "- Réel : ex : 3.14  \n",
    "- Booléen : ex : True / False  \n",
    "- Chaîne de caractères : ex : \"Bonjour\"  \n",
    "\n",
    "Il existe d'autres types de données que nous découvrirons plus tard.\n",
    "\n",
    "## Convention d'écriture\n",
    "\n",
    "Un algorithme doit comporter:\n",
    "- un titre\n",
    "- la déclaration des variables ou constantes utilisées ainsi que leur type\n",
    "- les instructions\n",
    "\n",
    "Exemple :  \n",
    "\n",
    "**Algorithme** : “Somme de deux valeurs”\n",
    "\n",
    "**Variables** :\n",
    "- réels : a, b\n",
    "```\n",
    "Début\n",
    "a <- 5\n",
    "b <- 7\n",
    "afficher a + b\n",
    "Fin\n",
    "```\n",
    "\n",
    "Voici cet algorithme programmé en Python:\n",
    "```python\n",
    "a = 5\n",
    "b = 7\n",
    "print(a + b)\n",
    "```\n",
    "\n",
    "Vous devrez soigner vos algorithmes : ils doivent être faciles à lire et doivent permettre à tout lecteur de pouvoir le transformer aisément en programme.\n",
    "\n",
    "---\n",
    "\n",
    "## Entrées/Sorties\n",
    "\n",
    "De nombreux algorithmes nécessitent une communication avec un utilisateur. Les entrées peuvent être fournies par l'utilisateur, les sorties permettent à l'utilisateur de lire les messages.\n",
    "\n",
    "Il est possible de demander à l'utilisateur de saisir une valeur, cela ce fait à le mot *Saisir*:\n",
    "\n",
    "**Exemple : **\n",
    "\n",
    "**Algorithme** : “IMC”\n",
    "\n",
    "**Variables** :\n",
    "- numériques : poids, taille\n",
    "```\n",
    "Début\n",
    "Afficher \"Quel est votre poids? (en kg)\"\n",
    "Saisir poids\n",
    "Afficher \"Quelle est votre taille ?(en m)\"\n",
    "Saisir taille\n",
    "imc <- poids/taille au carré\n",
    "Afficher \"La valeur de  votre IMC est\"\n",
    "Afficher imc\n",
    "Fin\n",
    "```\n",
    "\n",
    "Maintenant que nous avons vu les bases de la réalisation d'un algorithme, passons à la programmation en Python."
   ]
  },
  {
   "cell_type": "markdown",
   "metadata": {},
   "source": [
    "# Introduction à Python\n",
    "\n",
    "## Variables et affectation\n",
    "En Python, l’affectation se fait avec le symbole `=`.\n",
    "\n",
    "```python\n",
    "# Déclaration et affectation de variables\n",
    "age = 20\n",
    "pi = 3.14159\n",
    "message = \"Bonjour\"\n",
    "est_majeur = True\n",
    "```\n",
    "\n",
    "⚠️ Remarques : \n",
    "- Python **ne demande pas de déclarer les types**. Le type est déterminé automatiquement.\n",
    "- le symbole = n'est pas équivalent à celui des mathématiques, 'x=1' est correct en Python tandis que '1=x' provoque une erreur.\n",
    "---\n",
    "\n",
    "## Constantes\n",
    "Python n’a pas de constantes strictes, mais par **convention**, on écrit les constantes en majuscules.\n",
    "\n",
    "```python\n",
    "PI = 3.14159\n",
    "TAUX_TVA = 0.20\n",
    "```\n",
    "\n",
    "---\n",
    "\n",
    "## Types et transtypage\n",
    "\n",
    "```python\n",
    "# Exemple de types\n",
    "entier = 42\n",
    "reel = 3.14\n",
    "chaine = \"123\"\n",
    "chaine2 = '123'\n",
    "booleen = False\n",
    "\n",
    "print(type(entier), type(reel), type(chaine), type(booleen))\n",
    "\n",
    "# Exemple de transtypage\n",
    "print(int(\"123\") + 1)   # conversion str -> int\n",
    "print(float(\"3.14\") + 1)  # conversion str -> float\n",
    "print(f\"{str(42)} est une chaîne\")  # conversion int -> str\n",
    "```\n",
    "\n",
    "### Opérations sur les nombres:\n",
    "\n",
    "Les opérations les plus courantes sont:\n",
    "- l'addition : +\n",
    "- la soustraction : -\n",
    "- la diviion : /\n",
    "- la multiplication : *\n",
    "- la puissance : **\n",
    "\n",
    "Pour les nombres entiers (int)\n",
    "\n",
    "- le reste de la division euclidienne : %\n",
    "- le quotient de la division euclidienne : //\n",
    "\n",
    "Pour les opérations plus complexes on fait appel au module **math**.\n",
    "\n",
    "Dans la cellule ci-dessous entrainez vous à faire quelques opérations."
   ]
  },
  {
   "cell_type": "code",
   "execution_count": null,
   "metadata": {},
   "outputs": [
    {
     "data": {
      "text/plain": [
       "2"
      ]
     },
     "metadata": {},
     "output_type": "display_data"
    }
   ],
   "source": [
    "10%4"
   ]
  },
  {
   "cell_type": "markdown",
   "metadata": {},
   "source": [
    "## Entrées / Sorties\n",
    "En Python :\n",
    "- **Entrée** : fonction `input()` (toujours une chaîne → souvent conversion nécessaire)\n",
    "- **Sortie** : fonction `print()`\n",
    "\n",
    "```python\n",
    "# Exemple IMC\n",
    "poids = float(input(\"Quel est votre poids ? (en kg) : \"))\n",
    "taille = float(input(\"Quelle est votre taille ? (en m) : \"))\n",
    "\n",
    "imc = poids / (taille ** 2)\n",
    "\n",
    "print(f\"Votre IMC est : {imc}\")\n",
    "```\n",
    "\n",
    "## Exemple complet : Somme de deux nombres\n"
   ]
  },
  {
   "cell_type": "code",
   "execution_count": 3,
   "metadata": {},
   "outputs": [
    {
     "name": "stdout",
     "output_type": "stream",
     "text": [
      "La somme est : 30\n"
     ]
    }
   ],
   "source": [
    "a = int(input(\"Entrez un premier nombre : \"))\n",
    "b = int(input(\"Entrez un deuxième nombre : \"))\n",
    "\n",
    "somme = a + b\n",
    "print(f\"La somme est : {somme}\")"
   ]
  },
  {
   "cell_type": "markdown",
   "metadata": {},
   "source": [
    "[sommaire](../index.ipynb)"
   ]
  }
 ],
 "metadata": {
  "kernelspec": {
   "display_name": "Python 3",
   "language": "python",
   "name": "python3"
  },
  "language_info": {
   "codemirror_mode": {
    "name": "ipython",
    "version": 3
   },
   "file_extension": ".py",
   "mimetype": "text/x-python",
   "name": "python",
   "nbconvert_exporter": "python",
   "pygments_lexer": "ipython3",
   "version": "3.12.3"
  }
 },
 "nbformat": 4,
 "nbformat_minor": 2
}
